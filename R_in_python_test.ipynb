{
 "cells": [
  {
   "cell_type": "code",
   "execution_count": 21,
   "id": "0372316a",
   "metadata": {},
   "outputs": [],
   "source": [
    "import subprocess"
   ]
  },
  {
   "cell_type": "code",
   "execution_count": 22,
   "id": "1ef0596b",
   "metadata": {},
   "outputs": [
    {
     "name": "stdout",
     "output_type": "stream",
     "text": [
      "0\n"
     ]
    }
   ],
   "source": [
    "# arguments for R script.\n",
    "arg1 = 3.\n",
    "arg2 = 2.\n",
    "# Just run the R script with the given arguments. Will output the exit error code (0 if everything works).\n",
    "# Note the path of Rscript needs to be specific here. Assume bash is being ran from root.\n",
    "# Not sure if this can be changed so it runs from a conda env for example.\n",
    "process = subprocess.call(f'/Library/Frameworks/R.framework/Resources/Rscript test_script.R {arg1} {arg2}', shell=True)\n",
    "print(process)\n",
    "\n"
   ]
  },
  {
   "cell_type": "code",
   "execution_count": 23,
   "id": "692f2fcf",
   "metadata": {},
   "outputs": [
    {
     "name": "stdout",
     "output_type": "stream",
     "text": [
      "b'[1] 5\\n'\n"
     ]
    }
   ],
   "source": [
    "# print literal output from R file.\n",
    "output = subprocess.check_output(f'/Library/Frameworks/R.framework/Resources/Rscript test_script.R {arg1} {arg2}', shell=True)\n",
    "print(output)"
   ]
  },
  {
   "cell_type": "code",
   "execution_count": null,
   "id": "d13cec74",
   "metadata": {},
   "outputs": [],
   "source": []
  }
 ],
 "metadata": {
  "kernelspec": {
   "display_name": "Python 3",
   "language": "python",
   "name": "python3"
  },
  "language_info": {
   "codemirror_mode": {
    "name": "ipython",
    "version": 3
   },
   "file_extension": ".py",
   "mimetype": "text/x-python",
   "name": "python",
   "nbconvert_exporter": "python",
   "pygments_lexer": "ipython3",
   "version": "3.7.7"
  }
 },
 "nbformat": 4,
 "nbformat_minor": 5
}
